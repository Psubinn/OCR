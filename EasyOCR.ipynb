{
 "cells": [
  {
   "cell_type": "code",
   "execution_count": 1,
   "id": "8677ba83-7da6-4194-b2b0-ca8fb2c3ade6",
   "metadata": {},
   "outputs": [],
   "source": [
    "import os\n",
    "os.environ['KMP_DUPLICATE_LIB_OK'] = 'TRUE'"
   ]
  },
  {
   "cell_type": "code",
   "execution_count": 2,
   "id": "f0afe394-073a-4bc2-a541-30f970566533",
   "metadata": {},
   "outputs": [],
   "source": [
    "import easyocr"
   ]
  },
  {
   "cell_type": "code",
   "execution_count": 3,
   "id": "cb773e5d-028f-465d-b692-34df847d6e7e",
   "metadata": {},
   "outputs": [],
   "source": [
    "from matplotlib import pyplot as plt\n",
    "from imutils.perspective import four_point_transform\n",
    "from imutils.contours import sort_contours\n",
    "import imutils\n",
    "from easyocr import Reader\n",
    "import cv2\n",
    "import requests\n",
    "import numpy as np\n",
    "from PIL import ImageFont, ImageDraw, Image"
   ]
  },
  {
   "cell_type": "code",
   "execution_count": 4,
   "id": "f1cd94b8-ed5c-4db5-b7de-d6cdd6ba795b",
   "metadata": {},
   "outputs": [],
   "source": [
    "def plt_imshow(title='image', img=None, figsize=(8 ,5)):\n",
    "    plt.figure(figsize=figsize)\n",
    " \n",
    "    if type(img) == list:\n",
    "        if type(title) == list:\n",
    "            titles = title\n",
    "        else:\n",
    "            titles = []\n",
    " \n",
    "            for i in range(len(img)):\n",
    "                titles.append(title)\n",
    " \n",
    "        for i in range(len(img)):\n",
    "            if len(img[i].shape) <= 2:\n",
    "                rgbImg = cv2.cvtColor(img[i], cv2.COLOR_GRAY2RGB)\n",
    "            else:\n",
    "                rgbImg = cv2.cvtColor(img[i], cv2.COLOR_BGR2RGB)\n",
    " \n",
    "            plt.subplot(1, len(img), i + 1), plt.imshow(rgbImg)\n",
    "            plt.title(titles[i])\n",
    "            plt.xticks([]), plt.yticks([])\n",
    " \n",
    "        plt.show()\n",
    "    else:\n",
    "        if len(img.shape) < 3:\n",
    "            rgbImg = cv2.cvtColor(img, cv2.COLOR_GRAY2RGB)\n",
    "        else:\n",
    "            rgbImg = cv2.cvtColor(img, cv2.COLOR_BGR2RGB)\n",
    " \n",
    "        plt.imshow(rgbImg)\n",
    "        plt.title(title)\n",
    "        plt.xticks([]), plt.yticks([])\n",
    "        plt.show()\n",
    " \n",
    " \n",
    "def make_scan_image(image, width, ksize=(5,5), min_threshold=75, max_threshold=200):\n",
    "  image_list_title = []\n",
    "  image_list = []\n",
    " \n",
    "  image = imutils.resize(image, width=width)\n",
    "  ratio = org_image.shape[1] / float(image.shape[1])\n",
    " \n",
    "  # 이미지를 grayscale로 변환하고 blur를 적용\n",
    "  # 모서리를 찾기위한 이미지 연산\n",
    "  gray = cv2.cvtColor(image, cv2.COLOR_BGR2GRAY)\n",
    "  blurred = cv2.GaussianBlur(gray, ksize, 0)\n",
    "  edged = cv2.Canny(blurred, min_threshold, max_threshold)\n",
    " \n",
    "  image_list_title = ['gray', 'blurred', 'edged']\n",
    "  image_list = [gray, blurred, edged]\n",
    " \n",
    "  # contours를 찾아 크기순으로 정렬\n",
    "  cnts = cv2.findContours(edged.copy(), cv2.RETR_EXTERNAL, cv2.CHAIN_APPROX_SIMPLE)\n",
    "  cnts = imutils.grab_contours(cnts)\n",
    "  cnts = sorted(cnts, key=cv2.contourArea, reverse=True)\n",
    " \n",
    "  findCnt = None\n",
    " \n",
    "  # 정렬된 contours를 반복문으로 수행하며 4개의 꼭지점을 갖는 도형을 검출\n",
    "  for c in cnts:\n",
    "    peri = cv2.arcLength(c, True)\n",
    "    approx = cv2.approxPolyDP(c, 0.02 * peri, True)\n",
    " \n",
    "    # contours가 크기순으로 정렬되어 있기때문에 제일 첫번째 사각형을 영역으로 판단하고 break\n",
    "    if len(approx) == 4:\n",
    "      findCnt = approx\n",
    "      break\n",
    " \n",
    " \n",
    "  # 만약 추출한 윤곽이 없을 경우 오류\n",
    "  if findCnt is None:\n",
    "    raise Exception((\"Could not find outline.\"))\n",
    " \n",
    " \n",
    "  output = image.copy()\n",
    "  cv2.drawContours(output, [findCnt], -1, (0, 255, 0), 2)\n",
    "  \n",
    "  image_list_title.append(\"Outline\")\n",
    "  image_list.append(output)\n",
    " \n",
    "  # 원본 이미지에 찾은 윤곽을 기준으로 이미지를 보정\n",
    "  transform_image = four_point_transform(org_image, findCnt.reshape(4, 2) * ratio)\n",
    " \n",
    "  plt_imshow(image_list_title, image_list)\n",
    "  plt_imshow(\"Transform\", transform_image)\n",
    " \n",
    "  return transform_image"
   ]
  },
  {
   "cell_type": "code",
   "execution_count": 28,
   "id": "113bdaf7-aa51-4613-ae78-425fa1d9ade3",
   "metadata": {},
   "outputs": [],
   "source": [
    "def putText(cv_img, text, x, y, color=(0, 0, 0), font_size=22):\n",
    "  # Colab이 아닌 Local에서 수행 시에는 gulim.ttc 를 사용하면 됩니다.\n",
    "  # font = ImageFont.truetype(\"fonts/gulim.ttc\", font_size)\n",
    "  font = ImageFont.truetype(r'...\\NanumFontSetup_TTF_GOTHIC\\NanumGothicBold.ttf', font_size)\n",
    "  img = Image.fromarray(cv_img)\n",
    "   \n",
    "  draw = ImageDraw.Draw(img)\n",
    "  draw.text((x, y), text, font=font, fill=color)\n",
    " \n",
    "  cv_img = np.array(img)\n",
    "  \n",
    "  return cv_img"
   ]
  },
  {
   "cell_type": "code",
   "execution_count": null,
   "id": "df745090-0eea-4da2-b10b-559f69299300",
   "metadata": {},
   "outputs": [],
   "source": [
    "image_path = '...'\n",
    "\n",
    "img_array = np.fromfile(image_path, np.uint8)\n",
    "image = cv2.imdecode(img_array, cv2.IMREAD_COLOR)\n",
    " \n",
    "#business_card_image = make_scan_image(org_image, width=200, ksize=(5, 5), min_threshold=20, max_threshold=100)\n",
    "\n",
    "plt_imshow(\"orignal image\", image)"
   ]
  },
  {
   "cell_type": "code",
   "execution_count": 30,
   "id": "3435a48e-bd0b-4037-a5bb-8d0b63102730",
   "metadata": {},
   "outputs": [
    {
     "name": "stdout",
     "output_type": "stream",
     "text": [
      "[INFO] OCR'ing input image...\n"
     ]
    }
   ],
   "source": [
    "langs = ['ko']\n",
    " \n",
    "print(\"[INFO] OCR'ing input image...\")\n",
    "reader = Reader(lang_list=langs, gpu=True)\n",
    "results = reader.readtext(image)"
   ]
  },
  {
   "cell_type": "code",
   "execution_count": null,
   "id": "89974d94-6afb-457f-9425-3bfcca7e982d",
   "metadata": {},
   "outputs": [],
   "source": [
    "results"
   ]
  },
  {
   "cell_type": "code",
   "execution_count": null,
   "id": "d2d7e1e8-74a5-49d6-8cff-df35d0cc1f0b",
   "metadata": {},
   "outputs": [],
   "source": [
    "simple_results = reader.readtext(image, detail = 0)\n",
    "simple_results"
   ]
  },
  {
   "cell_type": "code",
   "execution_count": null,
   "id": "6441a43b-716c-4906-a06e-47a2deeb7411",
   "metadata": {},
   "outputs": [],
   "source": [
    "# loop over the results\n",
    "for (bbox, text, prob) in results:\n",
    "    print(\"[INFO] {:.4f}: {}\".format(prob, text))\n",
    "    (tl, tr, br, bl) = bbox\n",
    "    tl = (int(tl[0]), int(tl[1]))\n",
    "    tr = (int(tr[0]), int(tr[1]))\n",
    "    br = (int(br[0]), int(br[1]))\n",
    "    bl = (int(bl[0]), int(bl[1]))\n",
    " \n",
    "    # 추출한 영역에 사각형을 그리고 인식한 글자를 표기합니다.\n",
    "    cv2.rectangle(image, tl, br, (0, 255, 0), 2)\n",
    "    #image = putText(image, text, tl[0], tl[1] - 60, (0, 255, 0), 50)\n",
    "    #cv2.putText(image, text, (tl[0], tl[1] - 10), cv2.FONT_HERSHEY_SIMPLEX, 0.8, (0, 255, 0), 2)"
   ]
  },
  {
   "cell_type": "code",
   "execution_count": null,
   "id": "0d254e2e-3d8d-4270-893c-18fea952ec29",
   "metadata": {},
   "outputs": [],
   "source": [
    "plt_imshow(\"Image\", image, figsize=(16,10))"
   ]
  },
  {
   "cell_type": "code",
   "execution_count": null,
   "id": "9bb6e7cd-0700-412a-b748-c18c996993b6",
   "metadata": {},
   "outputs": [],
   "source": []
  }
 ],
 "metadata": {
  "kernelspec": {
   "display_name": "Python 3 (ipykernel)",
   "language": "python",
   "name": "python3"
  },
  "language_info": {
   "codemirror_mode": {
    "name": "ipython",
    "version": 3
   },
   "file_extension": ".py",
   "mimetype": "text/x-python",
   "name": "python",
   "nbconvert_exporter": "python",
   "pygments_lexer": "ipython3",
   "version": "3.10.12"
  }
 },
 "nbformat": 4,
 "nbformat_minor": 5
}
